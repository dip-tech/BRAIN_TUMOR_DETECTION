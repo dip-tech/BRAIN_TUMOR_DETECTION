{
 "cells": [
  {
   "cell_type": "markdown",
   "metadata": {
    "pycharm": {
     "name": "#%% md\n"
    }
   },
   "source": [
    "# IMPORTING LIBRARIES"
   ]
  },
  {
   "cell_type": "code",
   "execution_count": 1,
   "metadata": {
    "collapsed": false,
    "jupyter": {
     "outputs_hidden": false
    },
    "pycharm": {
     "name": "#%%\n"
    }
   },
   "outputs": [],
   "source": [
    "# IMPORTING NUMPY\n",
    "import numpy as np\n",
    "# IMPORTING TENSORFLOW\n",
    "import tensorflow as tf\n",
    "# IMPORT IMAGE DATA GENERATOR\n",
    "from tensorflow.keras.preprocessing.image import ImageDataGenerator\n",
    "# IMPORT LOAD IMAGE AND IMAGE TO ARRAY\n",
    "from tensorflow.keras.utils import load_img, img_to_array"
   ]
  },
  {
   "cell_type": "markdown",
   "metadata": {
    "pycharm": {
     "name": "#%% md\n"
    }
   },
   "source": [
    "# PREPROCESSING TRAIN SET IMAGE"
   ]
  },
  {
   "cell_type": "code",
   "execution_count": 2,
   "outputs": [
    {
     "name": "stdout",
     "output_type": "stream",
     "text": [
      "Found 4811 images belonging to 2 classes.\n"
     ]
    }
   ],
   "source": [
    "# CREATING OBJECT OF IMAGE DATA GENERATOR\n",
    "training_image_data_gen = ImageDataGenerator(rescale=1. / 255, shear_range=0.2, zoom_range=0.2, horizontal_flip=True,vertical_flip=True)\n",
    "\n",
    "# CREATING TRAINING SET\n",
    "training_set = training_image_data_gen.flow_from_directory('dataset/train', target_size=(128,128), batch_size=32,\n",
    "                                                           class_mode='binary')"
   ],
   "metadata": {
    "collapsed": false,
    "pycharm": {
     "name": "#%%\n"
    }
   }
  },
  {
   "cell_type": "markdown",
   "source": [
    "# PREPROCESSING TEST SET IMAGE"
   ],
   "metadata": {
    "collapsed": false,
    "pycharm": {
     "name": "#%% md\n"
    }
   }
  },
  {
   "cell_type": "code",
   "execution_count": 3,
   "outputs": [
    {
     "name": "stdout",
     "output_type": "stream",
     "text": [
      "Found 1100 images belonging to 2 classes.\n"
     ]
    }
   ],
   "source": [
    "# CREATING OBJECT OF IMAGE DATA GENERATOR FOR TEST SET IMAGE\n",
    "test_image_data_gen = ImageDataGenerator(rescale=1. / 255)\n",
    "\n",
    "# CREATING TEST SET\n",
    "test_set = test_image_data_gen.flow_from_directory('dataset/test', target_size=(128,128), batch_size=32,\n",
    "                                                   class_mode='binary')"
   ],
   "metadata": {
    "collapsed": false,
    "pycharm": {
     "name": "#%%\n"
    }
   }
  },
  {
   "cell_type": "markdown",
   "source": [
    "# CREATING CNN MODEL"
   ],
   "metadata": {
    "collapsed": false,
    "pycharm": {
     "name": "#%% md\n"
    }
   }
  },
  {
   "cell_type": "code",
   "execution_count": 4,
   "outputs": [],
   "source": [
    "# CREATING CONVOLUTION NURAL NETWORK MODEL\n",
    "CNN=tf.keras.models.Sequential()"
   ],
   "metadata": {
    "collapsed": false,
    "pycharm": {
     "name": "#%%\n"
    }
   }
  },
  {
   "cell_type": "markdown",
   "source": [
    "# ADDING FIRST CONVOLUTION LAYER"
   ],
   "metadata": {
    "collapsed": false,
    "pycharm": {
     "name": "#%% md\n"
    }
   }
  },
  {
   "cell_type": "code",
   "execution_count": 5,
   "outputs": [],
   "source": [
    "# CONV2D LAYER\n",
    "CNN.add(tf.keras.layers.Conv2D(filters=16,kernel_size=5,activation='relu',input_shape=(128,128,3)))"
   ],
   "metadata": {
    "collapsed": false,
    "pycharm": {
     "name": "#%%\n"
    }
   }
  },
  {
   "cell_type": "markdown",
   "source": [
    "# ADDING FIRST POOLING LAYER"
   ],
   "metadata": {
    "collapsed": false,
    "pycharm": {
     "name": "#%% md\n"
    }
   }
  },
  {
   "cell_type": "code",
   "execution_count": 6,
   "outputs": [],
   "source": [
    "# FIRST MAX POOLING LAYER\n",
    "CNN.add(tf.keras.layers.MaxPool2D(pool_size=2,strides=2))"
   ],
   "metadata": {
    "collapsed": false,
    "pycharm": {
     "name": "#%%\n"
    }
   }
  },
  {
   "cell_type": "markdown",
   "source": [
    "# ADDING SECOND CONVOLUTION LAYER"
   ],
   "metadata": {
    "collapsed": false,
    "pycharm": {
     "name": "#%% md\n"
    }
   }
  },
  {
   "cell_type": "code",
   "execution_count": 7,
   "outputs": [],
   "source": [
    "# SECOND CONV2D LAYER\n",
    "CNN.add(tf.keras.layers.Conv2D(filters=32, kernel_size=5, activation='relu'))"
   ],
   "metadata": {
    "collapsed": false,
    "pycharm": {
     "name": "#%%\n"
    }
   }
  },
  {
   "cell_type": "markdown",
   "source": [
    "# ADDING SECOND POOLING LAYER"
   ],
   "metadata": {
    "collapsed": false,
    "pycharm": {
     "name": "#%% md\n"
    }
   }
  },
  {
   "cell_type": "code",
   "execution_count": 8,
   "outputs": [],
   "source": [
    "# SECOND MAX POOLING LAYER\n",
    "CNN.add(tf.keras.layers.MaxPool2D(pool_size=2,strides=2))"
   ],
   "metadata": {
    "collapsed": false,
    "pycharm": {
     "name": "#%%\n"
    }
   }
  },
  {
   "cell_type": "markdown",
   "source": [
    "# ADDING THIRD CONVOLUTION LAYER"
   ],
   "metadata": {
    "collapsed": false,
    "pycharm": {
     "name": "#%% md\n"
    }
   }
  },
  {
   "cell_type": "code",
   "execution_count": 9,
   "outputs": [],
   "source": [
    "# THIRD CONV2D LAYER\n",
    "CNN.add(tf.keras.layers.Conv2D(filters=128, kernel_size=5, activation='relu'))"
   ],
   "metadata": {
    "collapsed": false,
    "pycharm": {
     "name": "#%%\n"
    }
   }
  },
  {
   "cell_type": "markdown",
   "source": [
    "# ADDING THIRD POOLING LAYER"
   ],
   "metadata": {
    "collapsed": false,
    "pycharm": {
     "name": "#%% md\n"
    }
   }
  },
  {
   "cell_type": "code",
   "execution_count": 10,
   "outputs": [],
   "source": [
    "# THIRD MAX POOLING LAYER\n",
    "CNN.add(tf.keras.layers.MaxPool2D(pool_size=2,strides=2))"
   ],
   "metadata": {
    "collapsed": false,
    "pycharm": {
     "name": "#%%\n"
    }
   }
  },
  {
   "cell_type": "markdown",
   "source": [
    "# FLATTENING"
   ],
   "metadata": {
    "collapsed": false,
    "pycharm": {
     "name": "#%% md\n"
    }
   }
  },
  {
   "cell_type": "code",
   "execution_count": 11,
   "outputs": [],
   "source": [
    "# ADDING FLATTEN LAYER\n",
    "CNN.add(tf.keras.layers.Flatten())"
   ],
   "metadata": {
    "collapsed": false,
    "pycharm": {
     "name": "#%%\n"
    }
   }
  },
  {
   "cell_type": "markdown",
   "source": [
    "# FULL CONNECTION"
   ],
   "metadata": {
    "collapsed": false,
    "pycharm": {
     "name": "#%% md\n"
    }
   }
  },
  {
   "cell_type": "code",
   "execution_count": 12,
   "outputs": [],
   "source": [
    "# ADDING DENSE LAYER\n",
    "CNN.add(tf.keras.layers.Dense(units=128,activation='relu'))"
   ],
   "metadata": {
    "collapsed": false,
    "pycharm": {
     "name": "#%%\n"
    }
   }
  },
  {
   "cell_type": "markdown",
   "source": [
    "# ADDING OUTPUT LAYER"
   ],
   "metadata": {
    "collapsed": false,
    "pycharm": {
     "name": "#%% md\n"
    }
   }
  },
  {
   "cell_type": "code",
   "execution_count": 13,
   "outputs": [],
   "source": [
    "# ADDING DENSE LAYER WITH UNIT 1 AND SIGMOID ACTIVATION FUNCTION\n",
    "CNN.add(tf.keras.layers.Dense(units=1,activation='sigmoid'))"
   ],
   "metadata": {
    "collapsed": false,
    "pycharm": {
     "name": "#%%\n"
    }
   }
  },
  {
   "cell_type": "markdown",
   "source": [
    "# COMPILE THE CNN MODEL"
   ],
   "metadata": {
    "collapsed": false,
    "pycharm": {
     "name": "#%% md\n"
    }
   }
  },
  {
   "cell_type": "code",
   "execution_count": 14,
   "outputs": [],
   "source": [
    "CNN.compile(optimizer='adam',loss='binary_crossentropy',metrics=['accuracy'])"
   ],
   "metadata": {
    "collapsed": false,
    "pycharm": {
     "name": "#%%\n"
    }
   }
  },
  {
   "cell_type": "markdown",
   "source": [
    "# TRAIN AND EVALUATE CNN MODEL"
   ],
   "metadata": {
    "collapsed": false,
    "pycharm": {
     "name": "#%% md\n"
    }
   }
  },
  {
   "cell_type": "code",
   "execution_count": null,
   "outputs": [
    {
     "name": "stdout",
     "output_type": "stream",
     "text": [
      "Epoch 1/25\n",
      "151/151 [==============================] - 182s 1s/step - loss: 0.6186 - accuracy: 0.6685 - val_loss: 0.5270 - val_accuracy: 0.7582\n",
      "Epoch 2/25\n",
      "151/151 [==============================] - 160s 1s/step - loss: 0.4710 - accuracy: 0.7932 - val_loss: 0.4767 - val_accuracy: 0.7955\n",
      "Epoch 3/25\n",
      "151/151 [==============================] - 180s 1s/step - loss: 0.3857 - accuracy: 0.8327 - val_loss: 0.3289 - val_accuracy: 0.8636\n",
      "Epoch 4/25\n",
      "151/151 [==============================] - 171s 1s/step - loss: 0.3339 - accuracy: 0.8572 - val_loss: 0.3261 - val_accuracy: 0.8491\n",
      "Epoch 5/25\n",
      "151/151 [==============================] - 167s 1s/step - loss: 0.2866 - accuracy: 0.8761 - val_loss: 0.2735 - val_accuracy: 0.8800\n",
      "Epoch 6/25\n",
      "151/151 [==============================] - 181s 1s/step - loss: 0.2530 - accuracy: 0.9013 - val_loss: 0.2857 - val_accuracy: 0.8973\n",
      "Epoch 7/25\n",
      "151/151 [==============================] - 218s 1s/step - loss: 0.2063 - accuracy: 0.9148 - val_loss: 0.1761 - val_accuracy: 0.9355\n",
      "Epoch 8/25\n",
      "151/151 [==============================] - 221s 1s/step - loss: 0.1802 - accuracy: 0.9308 - val_loss: 0.2057 - val_accuracy: 0.9255\n",
      "Epoch 9/25\n",
      "151/151 [==============================] - 209s 1s/step - loss: 0.1519 - accuracy: 0.9372 - val_loss: 0.1236 - val_accuracy: 0.9627\n",
      "Epoch 10/25\n",
      "151/151 [==============================] - 188s 1s/step - loss: 0.1454 - accuracy: 0.9410 - val_loss: 0.1345 - val_accuracy: 0.9464\n",
      "Epoch 11/25\n",
      "151/151 [==============================] - 181s 1s/step - loss: 0.1384 - accuracy: 0.9499 - val_loss: 0.1037 - val_accuracy: 0.9673\n",
      "Epoch 12/25\n",
      "151/151 [==============================] - 205s 1s/step - loss: 0.1282 - accuracy: 0.9524 - val_loss: 0.0963 - val_accuracy: 0.9636\n",
      "Epoch 13/25\n",
      "151/151 [==============================] - 199s 1s/step - loss: 0.1075 - accuracy: 0.9615 - val_loss: 0.0827 - val_accuracy: 0.9682\n",
      "Epoch 14/25\n",
      "151/151 [==============================] - 173s 1s/step - loss: 0.0920 - accuracy: 0.9667 - val_loss: 0.0870 - val_accuracy: 0.9700\n",
      "Epoch 15/25\n",
      "151/151 [==============================] - 194s 1s/step - loss: 0.0977 - accuracy: 0.9638 - val_loss: 0.0531 - val_accuracy: 0.9845\n",
      "Epoch 16/25\n",
      "151/151 [==============================] - 213s 1s/step - loss: 0.0794 - accuracy: 0.9705 - val_loss: 0.0564 - val_accuracy: 0.9791\n",
      "Epoch 17/25\n",
      "151/151 [==============================] - 237s 2s/step - loss: 0.0769 - accuracy: 0.9732 - val_loss: 0.0838 - val_accuracy: 0.9709\n",
      "Epoch 18/25\n",
      "151/151 [==============================] - 218s 1s/step - loss: 0.0656 - accuracy: 0.9780 - val_loss: 0.0447 - val_accuracy: 0.9882\n",
      "Epoch 19/25\n",
      " 91/151 [=================>............] - ETA: 1:13 - loss: 0.0640 - accuracy: 0.9754"
     ]
    }
   ],
   "source": [
    "CNN.fit(x=training_set,validation_data=test_set,epochs=25)"
   ],
   "metadata": {
    "collapsed": false,
    "pycharm": {
     "name": "#%%\n",
     "is_executing": true
    }
   }
  },
  {
   "cell_type": "markdown",
   "source": [
    "# DISPLAY CLASSES"
   ],
   "metadata": {
    "collapsed": false,
    "pycharm": {
     "name": "#%% md\n"
    }
   }
  },
  {
   "cell_type": "code",
   "execution_count": null,
   "outputs": [],
   "source": [
    "training_set.class_indices"
   ],
   "metadata": {
    "collapsed": false,
    "pycharm": {
     "name": "#%%\n",
     "is_executing": true
    }
   }
  },
  {
   "cell_type": "markdown",
   "source": [
    "# PREDICTING SINGLE RESULT"
   ],
   "metadata": {
    "collapsed": false,
    "pycharm": {
     "name": "#%% md\n"
    }
   }
  },
  {
   "cell_type": "code",
   "execution_count": null,
   "outputs": [],
   "source": [
    "import matplotlib.pyplot as plt\n",
    "# LOAD IMAGE\n",
    "test_img=load_img('dataset/single_prediction/1.png',target_size=(128,128)) # THIS WILL RETURN PL IMAGE\n",
    "plt.imshow(test_img)\n",
    "# CONVERT IT INTO NUMPY ARRAY\n",
    "test_img=img_to_array(test_img)\n",
    "\n",
    "# test_img=tf.keras.applications.resnet50.preprocess_input(test_img)\n",
    "# CONVERTING INTO 2D\n",
    "test_img=np.expand_dims(test_img,axis=0)\n",
    "# PREDICT RESULT\n",
    "RESULT_OBJECT=CNN.predict(test_img)\n",
    "print(RESULT_OBJECT[0][0])\n",
    "# CONDITION\n",
    "if RESULT_OBJECT[0][0]==0:\n",
    "    print('TUMOR DETECTED')\n",
    "else:\n",
    "    print('HEALTHY')"
   ],
   "metadata": {
    "collapsed": false,
    "pycharm": {
     "name": "#%%\n",
     "is_executing": true
    }
   }
  },
  {
   "cell_type": "code",
   "execution_count": null,
   "outputs": [],
   "source": [],
   "metadata": {
    "collapsed": false,
    "pycharm": {
     "name": "#%%\n",
     "is_executing": true
    }
   }
  }
 ],
 "metadata": {
  "kernelspec": {
   "display_name": "Python 3 (ipykernel)",
   "language": "python",
   "name": "python3"
  },
  "language_info": {
   "codemirror_mode": {
    "name": "ipython",
    "version": 3
   },
   "file_extension": ".py",
   "mimetype": "text/x-python",
   "name": "python",
   "nbconvert_exporter": "python",
   "pygments_lexer": "ipython3",
   "version": "3.9.12"
  }
 },
 "nbformat": 4,
 "nbformat_minor": 4
}